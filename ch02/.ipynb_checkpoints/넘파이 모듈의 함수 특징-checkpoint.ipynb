{
 "cells": [
  {
   "cell_type": "markdown",
   "id": "1c20102a-1e6c-4c96-8119-58c89f096961",
   "metadata": {},
   "source": [
    "# 넘파이 모듈의 함수 특징"
   ]
  },
  {
   "cell_type": "markdown",
   "id": "bb8f1899-7b9f-4b4a-bcb5-d7deaea1720d",
   "metadata": {},
   "source": [
    "## 2.1 동일한 이름의 함수와 메소드 지원"
   ]
  },
  {
   "cell_type": "markdown",
   "id": "842feec0-afa1-4324-aca3-eaa542bdcfe7",
   "metadata": {},
   "source": [
    "### 예제 1 함수와 메소드 처리"
   ]
  },
  {
   "cell_type": "code",
   "execution_count": 3,
   "id": "7884315b-f74b-425e-a479-5a804d219a93",
   "metadata": {},
   "outputs": [],
   "source": [
    "import numpy as np\n",
    "\n",
    "a = np.zeros((5, 5), dtype = np.int_)"
   ]
  },
  {
   "cell_type": "code",
   "execution_count": 4,
   "id": "cf8d5868-ea6a-488a-a148-7328d2189d08",
   "metadata": {},
   "outputs": [
    {
     "data": {
      "text/plain": [
       "(5, 5)"
      ]
     },
     "execution_count": 4,
     "metadata": {},
     "output_type": "execute_result"
    }
   ],
   "source": [
    "a.shape"
   ]
  },
  {
   "cell_type": "code",
   "execution_count": 5,
   "id": "dbe3ccd3-f703-4d3f-b621-bd57474cf0fa",
   "metadata": {},
   "outputs": [
    {
     "data": {
      "text/plain": [
       "array([[0, 0, 0, 0, 0],\n",
       "       [0, 0, 0, 0, 0],\n",
       "       [0, 0, 0, 0, 0],\n",
       "       [0, 0, 0, 0, 0],\n",
       "       [0, 0, 0, 0, 0]])"
      ]
     },
     "execution_count": 5,
     "metadata": {},
     "output_type": "execute_result"
    }
   ],
   "source": [
    "a"
   ]
  },
  {
   "cell_type": "code",
   "execution_count": 6,
   "id": "51faa7a5-175c-489e-9191-6239416721bf",
   "metadata": {},
   "outputs": [
    {
     "data": {
      "text/plain": [
       "array([[False, False, False, False, False],\n",
       "       [False, False, False, False, False],\n",
       "       [False, False, False, False, False],\n",
       "       [False, False, False, False, False],\n",
       "       [False, False, False, False, False]])"
      ]
     },
     "execution_count": 6,
     "metadata": {},
     "output_type": "execute_result"
    }
   ],
   "source": [
    "a != 0"
   ]
  },
  {
   "cell_type": "code",
   "execution_count": 9,
   "id": "abe15f20-89b0-413f-9ceb-5f393930a4bd",
   "metadata": {},
   "outputs": [
    {
     "data": {
      "text/plain": [
       "np.False_"
      ]
     },
     "execution_count": 9,
     "metadata": {},
     "output_type": "execute_result"
    }
   ],
   "source": [
    "(a != 0).any() # 여러 개의 불리언 값을 판단해서 하나라도 True가 있으면 True 반환"
   ]
  },
  {
   "cell_type": "code",
   "execution_count": 8,
   "id": "6de2708b-d038-41dc-a41a-5564d7ede2e6",
   "metadata": {},
   "outputs": [
    {
     "data": {
      "text/plain": [
       "np.False_"
      ]
     },
     "execution_count": 8,
     "metadata": {},
     "output_type": "execute_result"
    }
   ],
   "source": [
    "np.any(a != 0)"
   ]
  },
  {
   "cell_type": "code",
   "execution_count": 10,
   "id": "b1507cd3-74a7-410d-9c74-6e8469237d51",
   "metadata": {},
   "outputs": [
    {
     "data": {
      "text/plain": [
       "np.False_"
      ]
     },
     "execution_count": 10,
     "metadata": {},
     "output_type": "execute_result"
    }
   ],
   "source": [
    "(a != 0).any()"
   ]
  },
  {
   "cell_type": "code",
   "execution_count": 11,
   "id": "360eb376-7ab6-4228-acd2-ca7d6333f01e",
   "metadata": {},
   "outputs": [
    {
     "data": {
      "text/plain": [
       "<function any at 0x0000020F7FCC66F0>"
      ]
     },
     "execution_count": 11,
     "metadata": {},
     "output_type": "execute_result"
    }
   ],
   "source": [
    "np.any"
   ]
  },
  {
   "cell_type": "code",
   "execution_count": 12,
   "id": "011d8d96-7c87-47a4-9bb9-7e8972ca31c3",
   "metadata": {},
   "outputs": [
    {
     "name": "stderr",
     "output_type": "stream",
     "text": [
      "C:\\Users\\Administrator\\AppData\\Local\\Temp\\ipykernel_17236\\3956599824.py:1: DeprecationWarning: numpy.core is deprecated and has been renamed to numpy._core. The numpy._core namespace contains private NumPy internals and its use is discouraged, as NumPy internals can change without warning in any release. In practice, most real-world usage of numpy.core is to access functionality in the public NumPy API. If that is the case, use the public NumPy API. If not, you are using NumPy internals. If you would still like to access an internal attribute, use numpy._core.fromnumeric.\n",
      "  np.ndarray.any is np.core.fromnumeric.any\n"
     ]
    },
    {
     "data": {
      "text/plain": [
       "False"
      ]
     },
     "execution_count": 12,
     "metadata": {},
     "output_type": "execute_result"
    }
   ],
   "source": [
    "np.ndarray.any is np.core.fromnumeric.any"
   ]
  },
  {
   "cell_type": "code",
   "execution_count": 13,
   "id": "2e2f07af-955b-4669-9a4c-0dc4d4b49411",
   "metadata": {},
   "outputs": [
    {
     "name": "stdout",
     "output_type": "stream",
     "text": [
      "Help on method_descriptor:\n",
      "\n",
      "any(...) unbound numpy.ndarray method\n",
      "    a.any(axis=None, out=None, keepdims=False, *, where=True)\n",
      "    \n",
      "    Returns True if any of the elements of `a` evaluate to True.\n",
      "    \n",
      "    Refer to `numpy.any` for full documentation.\n",
      "    \n",
      "    See Also\n",
      "    --------\n",
      "    numpy.any : equivalent function\n",
      "\n"
     ]
    }
   ],
   "source": [
    "help(np.ndarray.any)"
   ]
  },
  {
   "cell_type": "code",
   "execution_count": 15,
   "id": "36b300d9-1825-4973-9c7e-594de4b17741",
   "metadata": {},
   "outputs": [
    {
     "name": "stdout",
     "output_type": "stream",
     "text": [
      "Help on built-in function any:\n",
      "\n",
      "any(...) method of numpy.ndarray instance\n",
      "    a.any(axis=None, out=None, keepdims=False, *, where=True)\n",
      "    \n",
      "    Returns True if any of the elements of `a` evaluate to True.\n",
      "    \n",
      "    Refer to `numpy.any` for full documentation.\n",
      "    \n",
      "    See Also\n",
      "    --------\n",
      "    numpy.any : equivalent function\n",
      "\n"
     ]
    }
   ],
   "source": [
    "help(a.any)"
   ]
  },
  {
   "cell_type": "code",
   "execution_count": 16,
   "id": "7448b9bd-6d9f-41c8-9074-88cadf7beb1e",
   "metadata": {},
   "outputs": [],
   "source": [
    "np_ = set(dir(np))"
   ]
  },
  {
   "cell_type": "code",
   "execution_count": 17,
   "id": "2010cc83-c44f-4ce9-8a90-a99460ca0efa",
   "metadata": {},
   "outputs": [],
   "source": [
    "nd_ = set(dir(np.ndarray))"
   ]
  },
  {
   "cell_type": "code",
   "execution_count": 18,
   "id": "1faf9ef7-478b-4bf0-b4a9-ffab812960dd",
   "metadata": {},
   "outputs": [],
   "source": [
    "npd_ = np_ & nd_"
   ]
  },
  {
   "cell_type": "code",
   "execution_count": 19,
   "id": "8edfbc5e-d84d-4e79-9841-c5120eebfd6d",
   "metadata": {},
   "outputs": [
    {
     "data": {
      "text/plain": [
       "48"
      ]
     },
     "execution_count": 19,
     "metadata": {},
     "output_type": "execute_result"
    }
   ],
   "source": [
    "len(npd_)"
   ]
  },
  {
   "cell_type": "code",
   "execution_count": 20,
   "id": "a6bd0163-37e5-494a-a0cf-75d64a83a70b",
   "metadata": {},
   "outputs": [
    {
     "name": "stdout",
     "output_type": "stream",
     "text": [
      "put any __dir__ shape transpose \n",
      "nonzero cumprod argmax conjugate all \n",
      "trace round conj prod take \n",
      "argmin swapaxes astype argpartition reshape \n",
      "var imag mean size diagonal \n",
      "cumsum repeat ptp std copy \n",
      "ndim sort choose sum argsort \n",
      "__doc__ dtype min clip searchsorted \n",
      "real partition dot squeeze compress \n",
      "max resize ravel "
     ]
    }
   ],
   "source": [
    "count = 0\n",
    "for i in list(npd_):\n",
    "    count += 1\n",
    "    print(i, end = \" \")\n",
    "    if count % 5 == 0:\n",
    "        print()"
   ]
  },
  {
   "cell_type": "markdown",
   "id": "54669767-2dd2-4bd7-823b-a6ded80abaa5",
   "metadata": {},
   "source": [
    "## 2.2 유니버설 함수 제공"
   ]
  },
  {
   "cell_type": "markdown",
   "id": "a78b76f6-d29a-45d7-965d-9a3f731d62bb",
   "metadata": {},
   "source": [
    "수학의 선형대수를 **벡터와 행렬**을 주로 계산합니다. \n",
    "보통 벡터와 행렬의 연산은 구성하는 원소별로(element-wide) 처리합니다.\n",
    "여러 원소를 가지고 있지만 자동으로 원소별 계산을 처리하는 것을 벡터화 연산이라고 합니다.\n",
    "**추가적인 순환문을 사용하지 않고도 모든 원소를 계산**한다는 뜻입니다.\n",
    "이런 연산을 지원하는 특별한 함를 유니버설 함수라고 합니다."
   ]
  },
  {
   "cell_type": "markdown",
   "id": "1e72a68c-0bc3-4295-8803-ba8c3bce3fb1",
   "metadata": {},
   "source": [
    "### 예제 1 유니버설 함수 알아보기"
   ]
  },
  {
   "cell_type": "code",
   "execution_count": 22,
   "id": "46de1763-a245-4eec-a5eb-31376b29d70a",
   "metadata": {},
   "outputs": [],
   "source": [
    "a = dir(np)"
   ]
  },
  {
   "cell_type": "code",
   "execution_count": 23,
   "id": "b3cd85d8-804d-47a3-9280-a4fcc094c03f",
   "metadata": {},
   "outputs": [
    {
     "data": {
      "text/plain": [
       "numpy.ufunc"
      ]
     },
     "execution_count": 23,
     "metadata": {},
     "output_type": "execute_result"
    }
   ],
   "source": [
    "np.ufunc"
   ]
  },
  {
   "cell_type": "code",
   "execution_count": 35,
   "id": "065a167b-3555-483f-8667-dd8f3809bff2",
   "metadata": {},
   "outputs": [
    {
     "data": {
      "text/plain": [
       "numpy.ufunc"
      ]
     },
     "execution_count": 35,
     "metadata": {},
     "output_type": "execute_result"
    }
   ],
   "source": [
    "type(np.add) # add 함수는 유니버설 "
   ]
  },
  {
   "cell_type": "code",
   "execution_count": 34,
   "id": "e8752b07-e3fb-4218-b10a-0e31f4bcc77d",
   "metadata": {},
   "outputs": [
    {
     "data": {
      "text/plain": [
       "numpy._ArrayFunctionDispatcher"
      ]
     },
     "execution_count": 34,
     "metadata": {},
     "output_type": "execute_result"
    }
   ],
   "source": [
    "type(np.sort) # sort numpy 내장 함수"
   ]
  },
  {
   "cell_type": "code",
   "execution_count": 29,
   "id": "bcae09b4-f8e7-4d4f-84f0-2186ab037d35",
   "metadata": {},
   "outputs": [
    {
     "data": {
      "text/plain": [
       "{'_get_strided_loop',\n",
       " '_resolve_dtypes_and_context',\n",
       " 'accumulate',\n",
       " 'at',\n",
       " 'identity',\n",
       " 'nargs',\n",
       " 'nin',\n",
       " 'nout',\n",
       " 'ntypes',\n",
       " 'outer',\n",
       " 'reduce',\n",
       " 'reduceat',\n",
       " 'resolve_dtypes',\n",
       " 'signature',\n",
       " 'types'}"
      ]
     },
     "execution_count": 29,
     "metadata": {},
     "output_type": "execute_result"
    }
   ],
   "source": [
    "set(dir(np.add)) - set(dir(np.sort))"
   ]
  },
  {
   "cell_type": "code",
   "execution_count": 30,
   "id": "17a724a9-e476-4649-a8c3-e793605070de",
   "metadata": {},
   "outputs": [],
   "source": [
    "a = np.array([1, 2, 3, 4])"
   ]
  },
  {
   "cell_type": "code",
   "execution_count": 31,
   "id": "16de236d-4bfe-4d42-95f4-4308c59f74c7",
   "metadata": {},
   "outputs": [
    {
     "data": {
      "text/plain": [
       "array([2, 4, 6, 8])"
      ]
     },
     "execution_count": 31,
     "metadata": {},
     "output_type": "execute_result"
    }
   ],
   "source": [
    "np.add(a, a)"
   ]
  },
  {
   "cell_type": "code",
   "execution_count": 33,
   "id": "1cef0feb-87f5-4e46-b71a-42e14caae9a3",
   "metadata": {},
   "outputs": [
    {
     "data": {
      "text/plain": [
       "array([ 1,  3,  6, 10])"
      ]
     },
     "execution_count": 33,
     "metadata": {},
     "output_type": "execute_result"
    }
   ],
   "source": [
    "np.add.accumulate(a) # 1차원 배열의 원소를 누적한 1차원 배열 반환"
   ]
  },
  {
   "cell_type": "markdown",
   "id": "8f7aba72-ff2f-4727-95af-bf95d3ef172a",
   "metadata": {},
   "source": [
    "## 예제 2.3 벡터화 연산 이해하기"
   ]
  },
  {
   "cell_type": "markdown",
   "id": "bb1dcfca-f5ed-48c7-8b40-1ec09c686938",
   "metadata": {},
   "source": [
    "### 예제 1 벡터화 연산"
   ]
  },
  {
   "cell_type": "code",
   "execution_count": 36,
   "id": "e3f07ea3-5525-49c6-a031-f8552c13dd5b",
   "metadata": {},
   "outputs": [],
   "source": [
    "a = np.arange(6, 10)"
   ]
  },
  {
   "cell_type": "code",
   "execution_count": 37,
   "id": "5ff76148-64f9-4462-908d-5b76650bae3e",
   "metadata": {},
   "outputs": [
    {
     "data": {
      "text/plain": [
       "array([6, 7, 8, 9])"
      ]
     },
     "execution_count": 37,
     "metadata": {},
     "output_type": "execute_result"
    }
   ],
   "source": [
    "a"
   ]
  },
  {
   "cell_type": "code",
   "execution_count": 38,
   "id": "edb36294-33d9-4eca-ae49-ab402aa871da",
   "metadata": {},
   "outputs": [],
   "source": [
    "b = np.arange(10, 14)"
   ]
  },
  {
   "cell_type": "code",
   "execution_count": 39,
   "id": "e6c2b317-f6a3-4d1f-85d7-f3bb343047c4",
   "metadata": {},
   "outputs": [
    {
     "data": {
      "text/plain": [
       "array([10, 11, 12, 13])"
      ]
     },
     "execution_count": 39,
     "metadata": {},
     "output_type": "execute_result"
    }
   ],
   "source": [
    "b"
   ]
  },
  {
   "cell_type": "code",
   "execution_count": 40,
   "id": "10e5ff46-931e-4647-a014-af374ac26a5e",
   "metadata": {},
   "outputs": [],
   "source": [
    "c = a * b"
   ]
  },
  {
   "cell_type": "code",
   "execution_count": 41,
   "id": "79373fc1-35c7-4e69-8540-938911b72b02",
   "metadata": {},
   "outputs": [
    {
     "data": {
      "text/plain": [
       "array([ 60,  77,  96, 117])"
      ]
     },
     "execution_count": 41,
     "metadata": {},
     "output_type": "execute_result"
    }
   ],
   "source": [
    "c"
   ]
  },
  {
   "cell_type": "code",
   "execution_count": 42,
   "id": "a8ebcac7-6b4d-4081-a8d2-4c81811a4e03",
   "metadata": {},
   "outputs": [],
   "source": [
    "d = a[:, np.newaxis]"
   ]
  },
  {
   "cell_type": "code",
   "execution_count": 43,
   "id": "2cef0d9b-541e-46f5-b960-36f356d4a3b1",
   "metadata": {},
   "outputs": [
    {
     "data": {
      "text/plain": [
       "array([[6],\n",
       "       [7],\n",
       "       [8],\n",
       "       [9]])"
      ]
     },
     "execution_count": 43,
     "metadata": {},
     "output_type": "execute_result"
    }
   ],
   "source": [
    "d"
   ]
  },
  {
   "cell_type": "code",
   "execution_count": 44,
   "id": "addf01a6-d822-4f41-8df5-423d033c1179",
   "metadata": {},
   "outputs": [
    {
     "data": {
      "text/plain": [
       "(4, 1)"
      ]
     },
     "execution_count": 44,
     "metadata": {},
     "output_type": "execute_result"
    }
   ],
   "source": [
    "d.shape"
   ]
  },
  {
   "cell_type": "code",
   "execution_count": 47,
   "id": "97a2e794-def3-4db6-b396-80b68adedd1c",
   "metadata": {},
   "outputs": [],
   "source": [
    "e = b[np.newaxis, :]"
   ]
  },
  {
   "cell_type": "code",
   "execution_count": 48,
   "id": "bd7a9c6c-430d-4e67-b389-cdafbcc325dc",
   "metadata": {},
   "outputs": [
    {
     "data": {
      "text/plain": [
       "array([[10, 11, 12, 13]])"
      ]
     },
     "execution_count": 48,
     "metadata": {},
     "output_type": "execute_result"
    }
   ],
   "source": [
    "e"
   ]
  },
  {
   "cell_type": "code",
   "execution_count": 49,
   "id": "eb379fff-577f-4f6d-82ef-75a06cda79ff",
   "metadata": {},
   "outputs": [
    {
     "data": {
      "text/plain": [
       "(1, 4)"
      ]
     },
     "execution_count": 49,
     "metadata": {},
     "output_type": "execute_result"
    }
   ],
   "source": [
    "e.shape"
   ]
  },
  {
   "cell_type": "code",
   "execution_count": 50,
   "id": "59e043f1-d2a6-4a15-8ae8-e8e996139dbd",
   "metadata": {},
   "outputs": [],
   "source": [
    "f = d @ e # 행렬곱 => 연산자(@)"
   ]
  },
  {
   "cell_type": "code",
   "execution_count": 51,
   "id": "c00928b9-4629-48f7-96b8-0a1c88fd3f25",
   "metadata": {},
   "outputs": [
    {
     "data": {
      "text/plain": [
       "array([[ 60,  66,  72,  78],\n",
       "       [ 70,  77,  84,  91],\n",
       "       [ 80,  88,  96, 104],\n",
       "       [ 90,  99, 108, 117]])"
      ]
     },
     "execution_count": 51,
     "metadata": {},
     "output_type": "execute_result"
    }
   ],
   "source": [
    "f"
   ]
  },
  {
   "cell_type": "code",
   "execution_count": 53,
   "id": "4e948eb9-3554-4c42-a301-54a1ece58227",
   "metadata": {},
   "outputs": [
    {
     "data": {
      "text/plain": [
       "array([[ 60,  66,  72,  78],\n",
       "       [ 70,  77,  84,  91],\n",
       "       [ 80,  88,  96, 104],\n",
       "       [ 90,  99, 108, 117]])"
      ]
     },
     "execution_count": 53,
     "metadata": {},
     "output_type": "execute_result"
    }
   ],
   "source": [
    "d.dot(e) # 행렬곱 => dot()"
   ]
  },
  {
   "cell_type": "markdown",
   "id": "5fc3e040-484b-4e81-a6e7-6199bfe8ecdd",
   "metadata": {},
   "source": [
    "## 2.4 축(axis) 계산이 필요한 이유"
   ]
  },
  {
   "cell_type": "markdown",
   "id": "6c3d0eae-a2bd-4efc-9591-74fea5b1157c",
   "metadata": {},
   "source": [
    "### 예제1 축에 따른 연산"
   ]
  },
  {
   "cell_type": "code",
   "execution_count": 54,
   "id": "967c7dad-bdcd-4c7c-8b56-2ff9acb173bb",
   "metadata": {},
   "outputs": [],
   "source": [
    "a2 = np.array([1, 2, 3, 4])"
   ]
  },
  {
   "cell_type": "code",
   "execution_count": 55,
   "id": "1a300928-3b22-461e-9b3e-0aaa59875749",
   "metadata": {},
   "outputs": [
    {
     "data": {
      "text/plain": [
       "array([1, 2, 3, 4])"
      ]
     },
     "execution_count": 55,
     "metadata": {},
     "output_type": "execute_result"
    }
   ],
   "source": [
    "a2"
   ]
  },
  {
   "cell_type": "code",
   "execution_count": 58,
   "id": "a6ab574f-f51d-49c3-96ca-07a79055a104",
   "metadata": {},
   "outputs": [],
   "source": [
    "a2 = a2.reshape(2, 2) # 축을 추가하이 위해 reshaope 메소드 사용"
   ]
  },
  {
   "cell_type": "code",
   "execution_count": 57,
   "id": "d7c4902b-0ba4-40f5-8304-4dbcc85046da",
   "metadata": {},
   "outputs": [
    {
     "data": {
      "text/plain": [
       "array([[1, 2],\n",
       "       [3, 4]])"
      ]
     },
     "execution_count": 57,
     "metadata": {},
     "output_type": "execute_result"
    }
   ],
   "source": [
    "a2"
   ]
  },
  {
   "cell_type": "code",
   "execution_count": 59,
   "id": "fb78ab64-651d-4083-a2b4-54571acb0722",
   "metadata": {},
   "outputs": [
    {
     "data": {
      "text/plain": [
       "np.int64(10)"
      ]
     },
     "execution_count": 59,
     "metadata": {},
     "output_type": "execute_result"
    }
   ],
   "source": [
    "np.sum(a2)"
   ]
  },
  {
   "cell_type": "code",
   "execution_count": 60,
   "id": "94d3e330-7e4d-4221-a182-018041f1b6cd",
   "metadata": {},
   "outputs": [
    {
     "data": {
      "text/plain": [
       "array([4, 6])"
      ]
     },
     "execution_count": 60,
     "metadata": {},
     "output_type": "execute_result"
    }
   ],
   "source": [
    "np.sum(a2, axis = 0)"
   ]
  },
  {
   "cell_type": "code",
   "execution_count": 61,
   "id": "e8266b5f-a984-460a-9b41-4b7670b6aef4",
   "metadata": {},
   "outputs": [
    {
     "data": {
      "text/plain": [
       "array([3, 7])"
      ]
     },
     "execution_count": 61,
     "metadata": {},
     "output_type": "execute_result"
    }
   ],
   "source": [
    "np.sum(a2, axis = 1)"
   ]
  },
  {
   "cell_type": "code",
   "execution_count": 62,
   "id": "fe0ab521-b629-4c8a-8e37-b5c0341b6e9b",
   "metadata": {},
   "outputs": [],
   "source": [
    "a3 = np.arange(1, 9)"
   ]
  },
  {
   "cell_type": "code",
   "execution_count": 63,
   "id": "ad35c469-a025-40d4-b44c-8c23b4713daa",
   "metadata": {},
   "outputs": [
    {
     "data": {
      "text/plain": [
       "array([1, 2, 3, 4, 5, 6, 7, 8])"
      ]
     },
     "execution_count": 63,
     "metadata": {},
     "output_type": "execute_result"
    }
   ],
   "source": [
    "a3"
   ]
  },
  {
   "cell_type": "code",
   "execution_count": 65,
   "id": "492910e2-6536-441c-b42f-a204d2e898c6",
   "metadata": {},
   "outputs": [],
   "source": [
    "a3 = a3.reshape(2, 2, 2)"
   ]
  },
  {
   "cell_type": "code",
   "execution_count": 66,
   "id": "aea49eac-9007-481b-88ba-55077db2bb61",
   "metadata": {},
   "outputs": [
    {
     "data": {
      "text/plain": [
       "array([[[1, 2],\n",
       "        [3, 4]],\n",
       "\n",
       "       [[5, 6],\n",
       "        [7, 8]]])"
      ]
     },
     "execution_count": 66,
     "metadata": {},
     "output_type": "execute_result"
    }
   ],
   "source": [
    "a3"
   ]
  },
  {
   "cell_type": "code",
   "execution_count": 67,
   "id": "38ee9cc0-0dbf-4ef3-b4cf-d072c87be063",
   "metadata": {},
   "outputs": [
    {
     "data": {
      "text/plain": [
       "(2, 2, 2)"
      ]
     },
     "execution_count": 67,
     "metadata": {},
     "output_type": "execute_result"
    }
   ],
   "source": [
    "a3.shape"
   ]
  },
  {
   "cell_type": "code",
   "execution_count": 68,
   "id": "d9fac312-31ff-4146-8c1f-6dd612caff71",
   "metadata": {},
   "outputs": [
    {
     "data": {
      "text/plain": [
       "array([[1, 2],\n",
       "       [3, 4]])"
      ]
     },
     "execution_count": 68,
     "metadata": {},
     "output_type": "execute_result"
    }
   ],
   "source": [
    "a3[0]"
   ]
  },
  {
   "cell_type": "code",
   "execution_count": 69,
   "id": "4efeaa0b-59fa-416d-a6fb-76e7c491bda6",
   "metadata": {},
   "outputs": [
    {
     "data": {
      "text/plain": [
       "array([[5, 6],\n",
       "       [7, 8]])"
      ]
     },
     "execution_count": 69,
     "metadata": {},
     "output_type": "execute_result"
    }
   ],
   "source": [
    "a3[1]"
   ]
  },
  {
   "cell_type": "code",
   "execution_count": 70,
   "id": "d6e494a9-1a1c-466b-8529-e98f6ee72906",
   "metadata": {},
   "outputs": [
    {
     "data": {
      "text/plain": [
       "np.int64(36)"
      ]
     },
     "execution_count": 70,
     "metadata": {},
     "output_type": "execute_result"
    }
   ],
   "source": [
    "np.sum(a3)"
   ]
  },
  {
   "cell_type": "code",
   "execution_count": 71,
   "id": "64edf2f5-93df-4db1-adcf-1873f58b9171",
   "metadata": {},
   "outputs": [
    {
     "data": {
      "text/plain": [
       "array([[ 6,  8],\n",
       "       [10, 12]])"
      ]
     },
     "execution_count": 71,
     "metadata": {},
     "output_type": "execute_result"
    }
   ],
   "source": [
    "np.sum(a3, axis = 0)"
   ]
  },
  {
   "cell_type": "code",
   "execution_count": 72,
   "id": "6e141831-b4c2-4f65-90be-67743caea93a",
   "metadata": {},
   "outputs": [
    {
     "data": {
      "text/plain": [
       "array([[ 4,  6],\n",
       "       [12, 14]])"
      ]
     },
     "execution_count": 72,
     "metadata": {},
     "output_type": "execute_result"
    }
   ],
   "source": [
    "np.sum(a3, axis = 1)"
   ]
  },
  {
   "cell_type": "code",
   "execution_count": 73,
   "id": "daabadb2-2577-4645-ae3e-bf20d024fb13",
   "metadata": {},
   "outputs": [
    {
     "data": {
      "text/plain": [
       "array([[ 3,  7],\n",
       "       [11, 15]])"
      ]
     },
     "execution_count": 73,
     "metadata": {},
     "output_type": "execute_result"
    }
   ],
   "source": [
    "np.sum(a3, axis = 2)"
   ]
  },
  {
   "cell_type": "markdown",
   "id": "88a8145f-ed45-4819-8ac6-b23059d0b905",
   "metadata": {},
   "source": [
    "## 2.5 계산할 때 원소의 개수 일치하기"
   ]
  },
  {
   "cell_type": "markdown",
   "id": "6f7c3be5-487d-48fb-843b-3b221ae5dd3f",
   "metadata": {},
   "source": [
    "수학 선형대수의 벡터와 행렬을 사칙연산을 처리할 때 벡터와 행렬의 원소의 개수가 같아야한다.\n",
    "\n",
    "이는 동일한 형상 즉 차원을 유지해야 한다는 뜻이다"
   ]
  },
  {
   "cell_type": "markdown",
   "id": "32e552c0-3416-4715-9249-1f166d83228d",
   "metadata": {},
   "source": [
    "### 예제 1 원소별로 연산하기"
   ]
  },
  {
   "cell_type": "code",
   "execution_count": 74,
   "id": "ae9e7157-7633-40d1-a22e-90cf01fee648",
   "metadata": {},
   "outputs": [],
   "source": [
    "a = np.array([4, 5])"
   ]
  },
  {
   "cell_type": "code",
   "execution_count": 75,
   "id": "2ebf3724-18cd-46f1-9406-b533284bc066",
   "metadata": {},
   "outputs": [
    {
     "data": {
      "text/plain": [
       "(2,)"
      ]
     },
     "execution_count": 75,
     "metadata": {},
     "output_type": "execute_result"
    }
   ],
   "source": [
    "a.shape"
   ]
  },
  {
   "cell_type": "code",
   "execution_count": 76,
   "id": "b6568c7d-a527-49a1-bb1c-d59b1b9540b7",
   "metadata": {},
   "outputs": [],
   "source": [
    "b = np.array([3, 4, 6])"
   ]
  },
  {
   "cell_type": "code",
   "execution_count": 77,
   "id": "d6b06ce8-dcf0-4346-86bc-4dc92ce25a28",
   "metadata": {},
   "outputs": [
    {
     "data": {
      "text/plain": [
       "(3,)"
      ]
     },
     "execution_count": 77,
     "metadata": {},
     "output_type": "execute_result"
    }
   ],
   "source": [
    "b.shape"
   ]
  },
  {
   "cell_type": "code",
   "execution_count": 78,
   "id": "a9fe4902-75f2-494b-884d-0be7b40182c6",
   "metadata": {},
   "outputs": [
    {
     "name": "stdout",
     "output_type": "stream",
     "text": [
      "operands could not be broadcast together with shapes (2,) (3,) \n"
     ]
    }
   ],
   "source": [
    "try:\n",
    "    a + b\n",
    "except Exception as e:\n",
    "    print(e)"
   ]
  },
  {
   "cell_type": "code",
   "execution_count": 79,
   "id": "0d71b8e7-9e9d-49c5-b601-04c8d8b846af",
   "metadata": {},
   "outputs": [],
   "source": [
    "a = np.append(a, [6])"
   ]
  },
  {
   "cell_type": "code",
   "execution_count": 80,
   "id": "b8ce77a8-c4d1-44e5-ac0a-70c51bf62d00",
   "metadata": {},
   "outputs": [
    {
     "data": {
      "text/plain": [
       "(3,)"
      ]
     },
     "execution_count": 80,
     "metadata": {},
     "output_type": "execute_result"
    }
   ],
   "source": [
    "a.shape"
   ]
  },
  {
   "cell_type": "code",
   "execution_count": 81,
   "id": "188f8d50-5174-4d73-89f2-b1611445ec28",
   "metadata": {},
   "outputs": [
    {
     "data": {
      "text/plain": [
       "array([ 7,  9, 12])"
      ]
     },
     "execution_count": 81,
     "metadata": {},
     "output_type": "execute_result"
    }
   ],
   "source": [
    "a + b"
   ]
  },
  {
   "cell_type": "code",
   "execution_count": 82,
   "id": "70b806c7-5d37-415e-a685-40f9cac63668",
   "metadata": {},
   "outputs": [],
   "source": [
    "a2 = np.array([[1, 2, 3], [3, 4, 5]])"
   ]
  },
  {
   "cell_type": "code",
   "execution_count": 83,
   "id": "cb9cbfea-b78a-4f86-b9ea-bd2d3b20b4cc",
   "metadata": {},
   "outputs": [],
   "source": [
    "b2 = np.array([1, 2])"
   ]
  },
  {
   "cell_type": "code",
   "execution_count": 84,
   "id": "88eb2f53-449b-4a58-a7d4-81602b639271",
   "metadata": {},
   "outputs": [
    {
     "name": "stdout",
     "output_type": "stream",
     "text": [
      "operands could not be broadcast together with shapes (2,3) (2,) \n"
     ]
    }
   ],
   "source": [
    "try:\n",
    "    a2 + b2\n",
    "except Exception as e:\n",
    "    print(e)"
   ]
  },
  {
   "cell_type": "code",
   "execution_count": 85,
   "id": "681a17f6-d478-4ad9-a623-a8c71b57ec56",
   "metadata": {},
   "outputs": [],
   "source": [
    "b2 = np.append(b2, [3])"
   ]
  },
  {
   "cell_type": "code",
   "execution_count": 86,
   "id": "ecc2e7a1-b5c8-498e-8d33-d30b3b66f101",
   "metadata": {},
   "outputs": [
    {
     "data": {
      "text/plain": [
       "(3,)"
      ]
     },
     "execution_count": 86,
     "metadata": {},
     "output_type": "execute_result"
    }
   ],
   "source": [
    "b2.shape"
   ]
  },
  {
   "cell_type": "code",
   "execution_count": 87,
   "id": "26d355c2-14aa-4919-ad46-4d6d6b630a6e",
   "metadata": {},
   "outputs": [
    {
     "data": {
      "text/plain": [
       "array([[2, 4, 6],\n",
       "       [4, 6, 8]])"
      ]
     },
     "execution_count": 87,
     "metadata": {},
     "output_type": "execute_result"
    }
   ],
   "source": [
    "a2 + b2"
   ]
  }
 ],
 "metadata": {
  "kernelspec": {
   "display_name": "Python 3 (ipykernel)",
   "language": "python",
   "name": "python3"
  },
  "language_info": {
   "codemirror_mode": {
    "name": "ipython",
    "version": 3
   },
   "file_extension": ".py",
   "mimetype": "text/x-python",
   "name": "python",
   "nbconvert_exporter": "python",
   "pygments_lexer": "ipython3",
   "version": "3.11.9"
  }
 },
 "nbformat": 4,
 "nbformat_minor": 5
}
