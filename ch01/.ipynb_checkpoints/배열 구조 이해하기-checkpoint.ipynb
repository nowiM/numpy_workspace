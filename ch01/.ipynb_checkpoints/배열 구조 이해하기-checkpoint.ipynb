{
 "cells": [
  {
   "cell_type": "markdown",
   "id": "2b584f0c-08b4-418a-adae-952cc5f0830f",
   "metadata": {},
   "source": [
    "# 파이썬 리스트 구조 이해하기"
   ]
  },
  {
   "cell_type": "markdown",
   "id": "7fb0329d-8da1-485a-b3a5-6ad52e917f0e",
   "metadata": {},
   "source": [
    "## 1.1 리스트 구조 이해하기"
   ]
  },
  {
   "cell_type": "markdown",
   "id": "c555f3b1-a77a-4e0c-b4a6-666759df89e8",
   "metadata": {},
   "source": [
    "### ex) 리스트 구조"
   ]
  },
  {
   "cell_type": "code",
   "execution_count": 2,
   "id": "9d17630b-11a0-48ff-96d6-d6979974cbde",
   "metadata": {},
   "outputs": [
    {
     "data": {
      "text/plain": [
       "list"
      ]
     },
     "execution_count": 2,
     "metadata": {},
     "output_type": "execute_result"
    }
   ],
   "source": [
    "l = [[1, 2, 3], [4, 5, 6]]\n",
    "type(l)"
   ]
  },
  {
   "cell_type": "markdown",
   "id": "7d5961a1-41a6-4517-85d4-bb3c45eea37d",
   "metadata": {},
   "source": [
    "리스트는 실제 원소의 객체를 저장하는 것이 아니라 이 객체의 레퍼런스를 관리한다."
   ]
  },
  {
   "cell_type": "code",
   "execution_count": 4,
   "id": "1c423c82-3dd2-4250-8c8a-078def9bc68a",
   "metadata": {},
   "outputs": [
    {
     "data": {
      "text/plain": [
       "[1, 2, 3]"
      ]
     },
     "execution_count": 4,
     "metadata": {},
     "output_type": "execute_result"
    }
   ],
   "source": [
    "l[0]"
   ]
  },
  {
   "cell_type": "code",
   "execution_count": 5,
   "id": "64c273db-1d50-441a-ac3a-47af80d1a99a",
   "metadata": {},
   "outputs": [
    {
     "data": {
      "text/plain": [
       "[4, 5, 6]"
      ]
     },
     "execution_count": 5,
     "metadata": {},
     "output_type": "execute_result"
    }
   ],
   "source": [
    "l[1]"
   ]
  },
  {
   "cell_type": "code",
   "execution_count": 6,
   "id": "8f0e5913-2ad5-4d3f-ab62-3de93497d38c",
   "metadata": {},
   "outputs": [
    {
     "name": "stdout",
     "output_type": "stream",
     "text": [
      "(0, 'A')\n",
      "(1, 'B')\n",
      "(2, 'C')\n"
     ]
    }
   ],
   "source": [
    "for entry in enumerate(['A', 'B', 'C']):\n",
    "    print(entry)"
   ]
  },
  {
   "cell_type": "markdown",
   "id": "6b556b54-4ca6-401f-a5f5-9b5ebef6b62e",
   "metadata": {},
   "source": [
    "순서가 있는 자료형(list, set, tuple, dictionary, string)을 인자로 전달받았을 때, **인덱스와 값**을 포함하여 리턴"
   ]
  },
  {
   "cell_type": "code",
   "execution_count": 7,
   "id": "6a709706-76ea-4c68-b079-079c25ea2702",
   "metadata": {},
   "outputs": [
    {
     "name": "stdout",
     "output_type": "stream",
     "text": [
      "[1, 2, 3]\n",
      "1\n",
      "1\n",
      "2\n",
      "2\n",
      "3\n",
      "3\n",
      "[4, 5, 6]\n",
      "4\n",
      "4\n",
      "5\n",
      "5\n",
      "6\n",
      "6\n"
     ]
    }
   ],
   "source": [
    "for i, a in enumerate(l):\n",
    "    print(a)\n",
    "    for j, b in enumerate(a):\n",
    "        print(b)\n",
    "        print(l[i][j])"
   ]
  },
  {
   "cell_type": "markdown",
   "id": "d66185ba-0914-4dfa-96d9-d8d883190f30",
   "metadata": {},
   "source": [
    "## 1.2 다차원 배열의 구조 이해하기"
   ]
  },
  {
   "cell_type": "markdown",
   "id": "a4eb8e4b-5cbf-4d96-bb0b-01ca29064038",
   "metadata": {},
   "source": [
    "### ex1)넘파이 배열 구조"
   ]
  },
  {
   "cell_type": "code",
   "execution_count": 8,
   "id": "5537c8ff-a884-4034-9fba-9a0b36c2ea31",
   "metadata": {},
   "outputs": [
    {
     "data": {
      "text/plain": [
       "'2.2.6'"
      ]
     },
     "execution_count": 8,
     "metadata": {},
     "output_type": "execute_result"
    }
   ],
   "source": [
    "import numpy as np\n",
    "np.__version__"
   ]
  },
  {
   "cell_type": "code",
   "execution_count": 9,
   "id": "f0565fda-d3c7-493e-aa2c-c1f9257435b2",
   "metadata": {},
   "outputs": [
    {
     "name": "stdout",
     "output_type": "stream",
     "text": [
      "<class 'numpy.ndarray'>\n"
     ]
    }
   ],
   "source": [
    "print(np.ndarray)"
   ]
  },
  {
   "cell_type": "code",
   "execution_count": 10,
   "id": "c11cdeea-1f96-456c-b90a-86ac049a747c",
   "metadata": {},
   "outputs": [
    {
     "data": {
      "text/plain": [
       "'ndarray'"
      ]
     },
     "execution_count": 10,
     "metadata": {},
     "output_type": "execute_result"
    }
   ],
   "source": [
    "np.ndarray.__name__"
   ]
  },
  {
   "cell_type": "code",
   "execution_count": 11,
   "id": "471c7a45-89c2-4b0e-9b0d-a12544a58609",
   "metadata": {},
   "outputs": [
    {
     "name": "stdout",
     "output_type": "stream",
     "text": [
      "T\n",
      "base\n",
      "ctypes\n",
      "data\n",
      "device\n",
      "dtype\n",
      "flags\n",
      "flat\n",
      "imag\n",
      "itemset\n",
      "itemsize\n",
      "mT\n",
      "nbytes\n",
      "ndim\n",
      "newbyteorder\n",
      "ptp\n",
      "real\n",
      "shape\n",
      "size\n",
      "strides\n"
     ]
    }
   ],
   "source": [
    "for i in dir(np.ndarray):\n",
    "    if not i.startswith(\"_\"):\n",
    "        if type(np.ndarray.__dict__[i]) != type(np.ndarray.var):\n",
    "            print(i)"
   ]
  },
  {
   "cell_type": "markdown",
   "id": "37bb75cb-03b6-4718-a02d-ba2d68a89b44",
   "metadata": {},
   "source": [
    "### ex2) 넘파이 배열 생성하기"
   ]
  },
  {
   "cell_type": "code",
   "execution_count": 12,
   "id": "bf45ab00-c9cf-48b6-b71c-d7f1e2dde140",
   "metadata": {},
   "outputs": [],
   "source": [
    "l = [1, 2, 3, 4]"
   ]
  },
  {
   "cell_type": "code",
   "execution_count": 13,
   "id": "55b8c39b-36d8-4481-993f-4501be4ec9d0",
   "metadata": {},
   "outputs": [],
   "source": [
    "a = np.array(l)"
   ]
  },
  {
   "cell_type": "code",
   "execution_count": 14,
   "id": "677ab021-fac2-44d1-99f3-5c822baedec2",
   "metadata": {},
   "outputs": [
    {
     "data": {
      "text/plain": [
       "array([1, 2, 3, 4])"
      ]
     },
     "execution_count": 14,
     "metadata": {},
     "output_type": "execute_result"
    }
   ],
   "source": [
    "a"
   ]
  },
  {
   "cell_type": "code",
   "execution_count": 15,
   "id": "a67f9f7d-e845-461e-a274-f7c4e20751ab",
   "metadata": {},
   "outputs": [
    {
     "data": {
      "text/plain": [
       "numpy.ndarray"
      ]
     },
     "execution_count": 15,
     "metadata": {},
     "output_type": "execute_result"
    }
   ],
   "source": [
    "type(a)"
   ]
  },
  {
   "cell_type": "code",
   "execution_count": 16,
   "id": "6031a1c4-cb45-42b8-b44c-1c8435c71570",
   "metadata": {},
   "outputs": [],
   "source": [
    "t = (1, 2, 3, 4)"
   ]
  },
  {
   "cell_type": "code",
   "execution_count": 17,
   "id": "d85eda70-0cf7-4587-8808-964a16ae6122",
   "metadata": {},
   "outputs": [],
   "source": [
    "b = np.array(t)"
   ]
  },
  {
   "cell_type": "code",
   "execution_count": 18,
   "id": "ec9d32db-0f20-409d-850e-cbd5d710e38b",
   "metadata": {},
   "outputs": [
    {
     "data": {
      "text/plain": [
       "numpy.ndarray"
      ]
     },
     "execution_count": 18,
     "metadata": {},
     "output_type": "execute_result"
    }
   ],
   "source": [
    "type(b)"
   ]
  },
  {
   "cell_type": "code",
   "execution_count": 19,
   "id": "c95d5122-b478-4af3-a3c8-e6e538423bc2",
   "metadata": {},
   "outputs": [
    {
     "data": {
      "text/plain": [
       "<memory at 0x0000019A3644D3C0>"
      ]
     },
     "execution_count": 19,
     "metadata": {},
     "output_type": "execute_result"
    }
   ],
   "source": [
    "a.data # data을 조회하면 메모리에 저장된 레퍼런스를 출력"
   ]
  },
  {
   "cell_type": "code",
   "execution_count": 20,
   "id": "790882b6-294f-4190-8e81-8a517bf27b65",
   "metadata": {},
   "outputs": [
    {
     "data": {
      "text/plain": [
       "array([1, 2, 3, 4])"
      ]
     },
     "execution_count": 20,
     "metadata": {},
     "output_type": "execute_result"
    }
   ],
   "source": [
    "a.data.obj # obj로 참조하면 배열의 값을 보여줌"
   ]
  },
  {
   "cell_type": "code",
   "execution_count": 21,
   "id": "93759774-5690-46b7-a411-e8e1ad0ac87c",
   "metadata": {},
   "outputs": [
    {
     "data": {
      "text/plain": [
       "numpy.ndarray"
      ]
     },
     "execution_count": 21,
     "metadata": {},
     "output_type": "execute_result"
    }
   ],
   "source": [
    "type(a.data.obj)"
   ]
  },
  {
   "cell_type": "code",
   "execution_count": 22,
   "id": "35a80f3b-2606-4501-a452-9ee7ce37462d",
   "metadata": {},
   "outputs": [],
   "source": [
    "c = b # b 다차원 배열 별칭을 c로 지정"
   ]
  },
  {
   "cell_type": "code",
   "execution_count": 23,
   "id": "a057ab9d-9fee-45c1-8605-6d53219e0066",
   "metadata": {},
   "outputs": [
    {
     "data": {
      "text/plain": [
       "True"
      ]
     },
     "execution_count": 23,
     "metadata": {},
     "output_type": "execute_result"
    }
   ],
   "source": [
    "c.base is b.base"
   ]
  },
  {
   "cell_type": "code",
   "execution_count": 24,
   "id": "3f2b7818-5c81-40ac-9f6a-044fc60dd959",
   "metadata": {},
   "outputs": [],
   "source": [
    "c[0] = 100"
   ]
  },
  {
   "cell_type": "code",
   "execution_count": 25,
   "id": "75f0ca51-c4e9-4555-8b56-a5e6ffbef061",
   "metadata": {},
   "outputs": [
    {
     "data": {
      "text/plain": [
       "array([100,   2,   3,   4])"
      ]
     },
     "execution_count": 25,
     "metadata": {},
     "output_type": "execute_result"
    }
   ],
   "source": [
    "c"
   ]
  },
  {
   "cell_type": "code",
   "execution_count": 26,
   "id": "9b8d1b85-62ee-454a-8383-7fe35905f18c",
   "metadata": {},
   "outputs": [
    {
     "data": {
      "text/plain": [
       "array([100,   2,   3,   4])"
      ]
     },
     "execution_count": 26,
     "metadata": {},
     "output_type": "execute_result"
    }
   ],
   "source": [
    "b"
   ]
  },
  {
   "cell_type": "code",
   "execution_count": 27,
   "id": "89ca4403-4b95-456a-8c79-850d5412963f",
   "metadata": {},
   "outputs": [],
   "source": [
    "d = np.array(b)"
   ]
  },
  {
   "cell_type": "code",
   "execution_count": 28,
   "id": "fe012e74-607a-4beb-a1e0-3070514a1e4e",
   "metadata": {},
   "outputs": [],
   "source": [
    "d[0] = 99"
   ]
  },
  {
   "cell_type": "code",
   "execution_count": 29,
   "id": "7e0a032f-2dac-494d-850a-68be45816d95",
   "metadata": {},
   "outputs": [
    {
     "data": {
      "text/plain": [
       "array([99,  2,  3,  4])"
      ]
     },
     "execution_count": 29,
     "metadata": {},
     "output_type": "execute_result"
    }
   ],
   "source": [
    "d"
   ]
  },
  {
   "cell_type": "code",
   "execution_count": 30,
   "id": "f28f1d74-faf5-41b9-a4f9-14171605e8bc",
   "metadata": {},
   "outputs": [
    {
     "data": {
      "text/plain": [
       "array([100,   2,   3,   4])"
      ]
     },
     "execution_count": 30,
     "metadata": {},
     "output_type": "execute_result"
    }
   ],
   "source": [
    "b"
   ]
  },
  {
   "cell_type": "code",
   "execution_count": 31,
   "id": "5b363c05-b4e0-4cd1-abe0-26108bea12a3",
   "metadata": {},
   "outputs": [],
   "source": [
    "e = np.array(l, dtype = float) # dype 매개변수에 특정 자료형 float 지정"
   ]
  },
  {
   "cell_type": "code",
   "execution_count": 32,
   "id": "97c77bca-b117-4376-8092-58bae152c5e9",
   "metadata": {},
   "outputs": [
    {
     "data": {
      "text/plain": [
       "array([1., 2., 3., 4.])"
      ]
     },
     "execution_count": 32,
     "metadata": {},
     "output_type": "execute_result"
    }
   ],
   "source": [
    "e"
   ]
  },
  {
   "cell_type": "code",
   "execution_count": 33,
   "id": "626b6bc9-f02d-4cc9-8850-37abae563991",
   "metadata": {},
   "outputs": [
    {
     "data": {
      "text/plain": [
       "dtype('float64')"
      ]
     },
     "execution_count": 33,
     "metadata": {},
     "output_type": "execute_result"
    }
   ],
   "source": [
    "e.dtype"
   ]
  },
  {
   "cell_type": "code",
   "execution_count": 34,
   "id": "910360e3-9474-4529-a1ff-e696a055b62b",
   "metadata": {},
   "outputs": [],
   "source": [
    "a2 = np.array([[1, 2, 3], [4, 5, 6]])"
   ]
  },
  {
   "cell_type": "code",
   "execution_count": 35,
   "id": "6ee81b7d-4bd4-40a3-8712-4282e83ac0ea",
   "metadata": {},
   "outputs": [
    {
     "data": {
      "text/plain": [
       "(2, 3)"
      ]
     },
     "execution_count": 35,
     "metadata": {},
     "output_type": "execute_result"
    }
   ],
   "source": [
    "a2.shape # (행, 열)"
   ]
  },
  {
   "cell_type": "code",
   "execution_count": 36,
   "id": "dca23acd-b703-47cd-9e62-c78c1e475c7e",
   "metadata": {},
   "outputs": [
    {
     "data": {
      "text/plain": [
       "2"
      ]
     },
     "execution_count": 36,
     "metadata": {},
     "output_type": "execute_result"
    }
   ],
   "source": [
    "a2.ndim"
   ]
  },
  {
   "cell_type": "code",
   "execution_count": 37,
   "id": "485a535a-fced-40f4-aa04-725263b35791",
   "metadata": {},
   "outputs": [
    {
     "data": {
      "text/plain": [
       "dtype('int64')"
      ]
     },
     "execution_count": 37,
     "metadata": {},
     "output_type": "execute_result"
    }
   ],
   "source": [
    "a2.dtype"
   ]
  },
  {
   "cell_type": "code",
   "execution_count": 38,
   "id": "4f322cf8-a020-47d2-9a6e-1c0344b87878",
   "metadata": {},
   "outputs": [
    {
     "data": {
      "text/plain": [
       "dtype('int64')"
      ]
     },
     "execution_count": 38,
     "metadata": {},
     "output_type": "execute_result"
    }
   ],
   "source": [
    "a2.dtype"
   ]
  },
  {
   "cell_type": "code",
   "execution_count": 39,
   "id": "aeccea9d-5d9f-4637-8011-7ead35332972",
   "metadata": {},
   "outputs": [
    {
     "data": {
      "text/plain": [
       "8"
      ]
     },
     "execution_count": 39,
     "metadata": {},
     "output_type": "execute_result"
    }
   ],
   "source": [
    "a2.itemsize # itemsize = 각 원소 하나의 메모리 크기 (byte)"
   ]
  },
  {
   "cell_type": "code",
   "execution_count": 40,
   "id": "592b7632-4620-400e-ac77-4b9b3e6ddecc",
   "metadata": {},
   "outputs": [
    {
     "data": {
      "text/plain": [
       "6"
      ]
     },
     "execution_count": 40,
     "metadata": {},
     "output_type": "execute_result"
    }
   ],
   "source": [
    "a2.size"
   ]
  },
  {
   "cell_type": "code",
   "execution_count": 41,
   "id": "39e2e438-d803-4a2b-bfd8-ff6dc2d1d506",
   "metadata": {},
   "outputs": [
    {
     "data": {
      "text/plain": [
       "(24, 8)"
      ]
     },
     "execution_count": 41,
     "metadata": {},
     "output_type": "execute_result"
    }
   ],
   "source": [
    "a2.strides"
   ]
  },
  {
   "cell_type": "markdown",
   "id": "e63069ba-c23c-442d-9e7d-dd6404ada773",
   "metadata": {},
   "source": [
    "→ 행(row) 인덱스가 1 증가할 때는 8바이트 × 3 = 24바이트를 건너뜀\n",
    "\n",
    "→ 열(column) 인덱스가 1 증가할 때는 8바이트만 이동"
   ]
  },
  {
   "cell_type": "code",
   "execution_count": 42,
   "id": "69c2f086-58a2-4211-a087-cd5a3db9e58e",
   "metadata": {},
   "outputs": [
    {
     "data": {
      "text/plain": [
       "array([1, 2, 3, 4, 5, 6])"
      ]
     },
     "execution_count": 42,
     "metadata": {},
     "output_type": "execute_result"
    }
   ],
   "source": [
    "a2.flatten()"
   ]
  },
  {
   "cell_type": "code",
   "execution_count": 43,
   "id": "e01a5a9b-769d-449e-bc67-95b2c42a64b5",
   "metadata": {},
   "outputs": [
    {
     "data": {
      "text/plain": [
       "array([1, 2, 3, 4, 5, 6])"
      ]
     },
     "execution_count": 43,
     "metadata": {},
     "output_type": "execute_result"
    }
   ],
   "source": [
    "a2.ravel() # 내부 데이터를 그대로 반환하는 뷰"
   ]
  },
  {
   "cell_type": "markdown",
   "id": "e5b66b98-8600-469a-a1a0-1550acebb790",
   "metadata": {},
   "source": [
    "### ex3) 넘파이 배열 원소 조회하기"
   ]
  },
  {
   "cell_type": "code",
   "execution_count": 44,
   "id": "ed62a057-097e-434c-ac5c-0351e60a283e",
   "metadata": {},
   "outputs": [
    {
     "data": {
      "text/plain": [
       "array([1, 2, 3, 4])"
      ]
     },
     "execution_count": 44,
     "metadata": {},
     "output_type": "execute_result"
    }
   ],
   "source": [
    "a"
   ]
  },
  {
   "cell_type": "code",
   "execution_count": 45,
   "id": "04decfe4-c9be-4cb6-aedb-8185c3ac6c50",
   "metadata": {},
   "outputs": [
    {
     "data": {
      "text/plain": [
       "[1, 2, 3, 4]"
      ]
     },
     "execution_count": 45,
     "metadata": {},
     "output_type": "execute_result"
    }
   ],
   "source": [
    "l"
   ]
  },
  {
   "cell_type": "code",
   "execution_count": 46,
   "id": "9e80ebdc-cdf6-4d29-9cb8-762cc21da927",
   "metadata": {},
   "outputs": [
    {
     "data": {
      "text/plain": [
       "np.int64(1)"
      ]
     },
     "execution_count": 46,
     "metadata": {},
     "output_type": "execute_result"
    }
   ],
   "source": [
    "a[0]"
   ]
  },
  {
   "cell_type": "code",
   "execution_count": 47,
   "id": "14edf5d2-5100-4120-b871-aa910c301f86",
   "metadata": {},
   "outputs": [
    {
     "data": {
      "text/plain": [
       "1"
      ]
     },
     "execution_count": 47,
     "metadata": {},
     "output_type": "execute_result"
    }
   ],
   "source": [
    "l[0]"
   ]
  },
  {
   "cell_type": "code",
   "execution_count": 48,
   "id": "c5b11511-20ba-42d6-ab6d-07e000951e1a",
   "metadata": {},
   "outputs": [],
   "source": [
    "l2 = [[1, 2, 3], [4, 5, 6]]"
   ]
  },
  {
   "cell_type": "code",
   "execution_count": 49,
   "id": "7fa86f42-5255-40e7-a0b8-dd50934cb2af",
   "metadata": {},
   "outputs": [
    {
     "data": {
      "text/plain": [
       "[[1, 2, 3], [4, 5, 6]]"
      ]
     },
     "execution_count": 49,
     "metadata": {},
     "output_type": "execute_result"
    }
   ],
   "source": [
    "l2"
   ]
  },
  {
   "cell_type": "code",
   "execution_count": 50,
   "id": "eca2d012-3f5a-4dc2-b890-1ffb9ff2ef96",
   "metadata": {},
   "outputs": [
    {
     "data": {
      "text/plain": [
       "array([[1, 2, 3],\n",
       "       [4, 5, 6]])"
      ]
     },
     "execution_count": 50,
     "metadata": {},
     "output_type": "execute_result"
    }
   ],
   "source": [
    "a2"
   ]
  },
  {
   "cell_type": "code",
   "execution_count": 51,
   "id": "f8fed707-a562-494b-b1c7-bcc04f1071f9",
   "metadata": {},
   "outputs": [
    {
     "name": "stdout",
     "output_type": "stream",
     "text": [
      "list indices must be integers or slices, not tuple\n"
     ]
    }
   ],
   "source": [
    "try:\n",
    "    l2[0, 1]\n",
    "except Exception as e:\n",
    "    print(e)"
   ]
  },
  {
   "cell_type": "code",
   "execution_count": 52,
   "id": "ba314b8d-efe7-4963-99ef-bf8d63705b0d",
   "metadata": {},
   "outputs": [
    {
     "data": {
      "text/plain": [
       "2"
      ]
     },
     "execution_count": 52,
     "metadata": {},
     "output_type": "execute_result"
    }
   ],
   "source": [
    "l2[0][1]"
   ]
  },
  {
   "cell_type": "code",
   "execution_count": 53,
   "id": "71d168a9-455e-4698-af3c-4242e8ac1a62",
   "metadata": {},
   "outputs": [
    {
     "data": {
      "text/plain": [
       "np.int64(2)"
      ]
     },
     "execution_count": 53,
     "metadata": {},
     "output_type": "execute_result"
    }
   ],
   "source": [
    "a2[0, 1] # np는 2차원 배열인 경우 인덱스 정보를 튜플로 전달하여 원소를 조회할 수 있다"
   ]
  },
  {
   "cell_type": "code",
   "execution_count": 54,
   "id": "25244d64-6cbd-48ae-a146-7a7b7f2e7aa8",
   "metadata": {},
   "outputs": [
    {
     "data": {
      "text/plain": [
       "numpy.int64"
      ]
     },
     "execution_count": 54,
     "metadata": {},
     "output_type": "execute_result"
    }
   ],
   "source": [
    "type(a2[0][1])"
   ]
  },
  {
   "cell_type": "code",
   "execution_count": 55,
   "id": "d49bfa12-5133-421a-8d68-5509b38a3f21",
   "metadata": {},
   "outputs": [
    {
     "data": {
      "text/plain": [
       "2"
      ]
     },
     "execution_count": 55,
     "metadata": {},
     "output_type": "execute_result"
    }
   ],
   "source": [
    "a2[0, 1].item()"
   ]
  },
  {
   "cell_type": "code",
   "execution_count": 56,
   "id": "1ca5b689-409f-4c05-8158-84a3fe57227e",
   "metadata": {},
   "outputs": [
    {
     "data": {
      "text/plain": [
       "int"
      ]
     },
     "execution_count": 56,
     "metadata": {},
     "output_type": "execute_result"
    }
   ],
   "source": [
    "type(a2[0, 1].item())"
   ]
  },
  {
   "cell_type": "code",
   "execution_count": 57,
   "id": "ee2c2ecb-7326-4b56-9790-83b4f5d26d76",
   "metadata": {},
   "outputs": [
    {
     "data": {
      "text/plain": [
       "np.int64(2)"
      ]
     },
     "execution_count": 57,
     "metadata": {},
     "output_type": "execute_result"
    }
   ],
   "source": [
    "a2[0, 1].real"
   ]
  },
  {
   "cell_type": "code",
   "execution_count": 58,
   "id": "64675424-c2b8-4a4d-8268-dbb2c3cf1cfe",
   "metadata": {},
   "outputs": [
    {
     "data": {
      "text/plain": [
       "np.int64(0)"
      ]
     },
     "execution_count": 58,
     "metadata": {},
     "output_type": "execute_result"
    }
   ],
   "source": [
    "a2[0, 1].imag"
   ]
  },
  {
   "cell_type": "markdown",
   "id": "b7d700c1-ad1b-40fb-ba41-182795921190",
   "metadata": {},
   "source": [
    "## 1.3 다차원 배열 클래스의 자료구조"
   ]
  },
  {
   "cell_type": "markdown",
   "id": "7ddd85f1-740b-4360-9db1-5c0c8be66b56",
   "metadata": {},
   "source": [
    "### ex1) 넘파이 모듈의 배열 내부구조 확인"
   ]
  },
  {
   "cell_type": "code",
   "execution_count": 59,
   "id": "ebf7f107-8ac0-438a-9805-fdce12aa9da7",
   "metadata": {},
   "outputs": [],
   "source": [
    "na = np.array([[[1, 2, 3], [4, 5, 6]], [[1, 2, 3], [4, 5, 6]]])"
   ]
  },
  {
   "cell_type": "code",
   "execution_count": 60,
   "id": "29774d48-0728-4507-9417-fae106f71427",
   "metadata": {},
   "outputs": [
    {
     "data": {
      "text/plain": [
       "array([[[1, 2, 3],\n",
       "        [4, 5, 6]],\n",
       "\n",
       "       [[1, 2, 3],\n",
       "        [4, 5, 6]]])"
      ]
     },
     "execution_count": 60,
     "metadata": {},
     "output_type": "execute_result"
    }
   ],
   "source": [
    "na"
   ]
  },
  {
   "cell_type": "code",
   "execution_count": 61,
   "id": "e536d120-cc06-43b2-82a5-dff6fc4d6feb",
   "metadata": {},
   "outputs": [
    {
     "data": {
      "text/plain": [
       "3"
      ]
     },
     "execution_count": 61,
     "metadata": {},
     "output_type": "execute_result"
    }
   ],
   "source": [
    "na.ndim"
   ]
  },
  {
   "cell_type": "code",
   "execution_count": 62,
   "id": "2b12277d-eac6-4c72-9bfd-2d5229da1c6c",
   "metadata": {},
   "outputs": [
    {
     "data": {
      "text/plain": [
       "(2, 2, 3)"
      ]
     },
     "execution_count": 62,
     "metadata": {},
     "output_type": "execute_result"
    }
   ],
   "source": [
    "na.shape"
   ]
  },
  {
   "cell_type": "code",
   "execution_count": 63,
   "id": "d71696b3-3bdc-4bd4-b824-5d91d3ef4864",
   "metadata": {},
   "outputs": [
    {
     "data": {
      "text/plain": [
       "array([[1, 2, 3],\n",
       "       [4, 5, 6]])"
      ]
     },
     "execution_count": 63,
     "metadata": {},
     "output_type": "execute_result"
    }
   ],
   "source": [
    "na[0]"
   ]
  },
  {
   "cell_type": "code",
   "execution_count": 64,
   "id": "82da22b8-3517-437e-9371-47bb80eadd1c",
   "metadata": {},
   "outputs": [
    {
     "data": {
      "text/plain": [
       "(2, 3)"
      ]
     },
     "execution_count": 64,
     "metadata": {},
     "output_type": "execute_result"
    }
   ],
   "source": [
    "na[0].shape"
   ]
  },
  {
   "cell_type": "code",
   "execution_count": 65,
   "id": "643f6a57-256b-4675-992f-4aa9cb47f2d8",
   "metadata": {},
   "outputs": [
    {
     "data": {
      "text/plain": [
       "{'data': (1761323406048, False),\n",
       " 'strides': None,\n",
       " 'descr': [('', '<i8')],\n",
       " 'typestr': '<i8',\n",
       " 'shape': (2, 2, 3),\n",
       " 'version': 3}"
      ]
     },
     "execution_count": 65,
     "metadata": {},
     "output_type": "execute_result"
    }
   ],
   "source": [
    "na.__array_interface__"
   ]
  },
  {
   "cell_type": "code",
   "execution_count": 66,
   "id": "8a972ab7-0499-4f7f-ab09-162a562684b6",
   "metadata": {},
   "outputs": [
    {
     "data": {
      "text/plain": [
       "(48, 24, 8)"
      ]
     },
     "execution_count": 66,
     "metadata": {},
     "output_type": "execute_result"
    }
   ],
   "source": [
    "na.strides"
   ]
  },
  {
   "cell_type": "code",
   "execution_count": 67,
   "id": "788f675f-fb55-49bb-abcc-3455ad35c0ee",
   "metadata": {},
   "outputs": [
    {
     "data": {
      "text/plain": [
       "1761323406048"
      ]
     },
     "execution_count": 67,
     "metadata": {},
     "output_type": "execute_result"
    }
   ],
   "source": [
    "na.__array_interface__['data'][0]"
   ]
  },
  {
   "cell_type": "code",
   "execution_count": 68,
   "id": "559115ca-6a0a-41a4-a529-1499dc35b3d4",
   "metadata": {},
   "outputs": [
    {
     "data": {
      "text/plain": [
       "96"
      ]
     },
     "execution_count": 68,
     "metadata": {},
     "output_type": "execute_result"
    }
   ],
   "source": [
    "len(na.data.tobytes())"
   ]
  },
  {
   "cell_type": "code",
   "execution_count": 69,
   "id": "f2fcedc0-c34e-4a05-8245-6982bac9994a",
   "metadata": {},
   "outputs": [
    {
     "data": {
      "text/plain": [
       "[[[1, 2, 3], [4, 5, 6]], [[1, 2, 3], [4, 5, 6]]]"
      ]
     },
     "execution_count": 69,
     "metadata": {},
     "output_type": "execute_result"
    }
   ],
   "source": [
    "na.data.tolist()"
   ]
  },
  {
   "cell_type": "markdown",
   "id": "b5147ea6-9a79-4f25-9b6a-10f111f7e500",
   "metadata": {},
   "source": [
    "### ex2) data 속성 관리 기준"
   ]
  },
  {
   "cell_type": "code",
   "execution_count": 70,
   "id": "b2fc6600-1085-4986-beb8-2348486e7440",
   "metadata": {},
   "outputs": [],
   "source": [
    "a = np.array([1, 2, 3, 4])"
   ]
  },
  {
   "cell_type": "code",
   "execution_count": 71,
   "id": "23352f17-ff75-45bb-8373-9b0c5d7a2618",
   "metadata": {},
   "outputs": [
    {
     "data": {
      "text/plain": [
       "array([1, 2, 3, 4])"
      ]
     },
     "execution_count": 71,
     "metadata": {},
     "output_type": "execute_result"
    }
   ],
   "source": [
    "a"
   ]
  },
  {
   "cell_type": "code",
   "execution_count": 72,
   "id": "9cc0190f-d1f6-4571-a5d7-d36e591109bd",
   "metadata": {},
   "outputs": [
    {
     "data": {
      "text/plain": [
       "<memory at 0x0000019A3644CB80>"
      ]
     },
     "execution_count": 72,
     "metadata": {},
     "output_type": "execute_result"
    }
   ],
   "source": [
    "a.data"
   ]
  },
  {
   "cell_type": "code",
   "execution_count": 73,
   "id": "ec3673e5-173f-49fc-8d26-934846da874f",
   "metadata": {},
   "outputs": [],
   "source": [
    "mem = memoryview(a)"
   ]
  },
  {
   "cell_type": "code",
   "execution_count": 74,
   "id": "32ecfe22-40e3-47b8-837b-2efded10933d",
   "metadata": {},
   "outputs": [
    {
     "data": {
      "text/plain": [
       "<memory at 0x0000019A3644CC40>"
      ]
     },
     "execution_count": 74,
     "metadata": {},
     "output_type": "execute_result"
    }
   ],
   "source": [
    "mem"
   ]
  },
  {
   "cell_type": "code",
   "execution_count": 75,
   "id": "b820c0b0-46b4-48c6-9b83-4a463a546aa0",
   "metadata": {},
   "outputs": [
    {
     "data": {
      "text/plain": [
       "1"
      ]
     },
     "execution_count": 75,
     "metadata": {},
     "output_type": "execute_result"
    }
   ],
   "source": [
    "a.data[0]"
   ]
  },
  {
   "cell_type": "code",
   "execution_count": 76,
   "id": "c54ef33e-373a-4ef4-9ed0-1d43ee13bd89",
   "metadata": {},
   "outputs": [
    {
     "data": {
      "text/plain": [
       "array([1, 2, 3, 4])"
      ]
     },
     "execution_count": 76,
     "metadata": {},
     "output_type": "execute_result"
    }
   ],
   "source": [
    "a.data.obj"
   ]
  },
  {
   "cell_type": "code",
   "execution_count": 77,
   "id": "38be0404-f3c7-4c28-9ca8-4dd67a2e6574",
   "metadata": {},
   "outputs": [
    {
     "data": {
      "text/plain": [
       "np.int64(1)"
      ]
     },
     "execution_count": 77,
     "metadata": {},
     "output_type": "execute_result"
    }
   ],
   "source": [
    "a.data.obj[0]"
   ]
  },
  {
   "cell_type": "code",
   "execution_count": 78,
   "id": "9e980b19-8fc8-472f-9c47-2aaaf7f0638f",
   "metadata": {},
   "outputs": [
    {
     "data": {
      "text/plain": [
       "dtype('int64')"
      ]
     },
     "execution_count": 78,
     "metadata": {},
     "output_type": "execute_result"
    }
   ],
   "source": [
    "a.dtype"
   ]
  },
  {
   "cell_type": "code",
   "execution_count": 79,
   "id": "911fbe63-7599-4076-8cb7-ea798e2ef5aa",
   "metadata": {},
   "outputs": [
    {
     "data": {
      "text/plain": [
       "8"
      ]
     },
     "execution_count": 79,
     "metadata": {},
     "output_type": "execute_result"
    }
   ],
   "source": [
    "a.itemsize"
   ]
  },
  {
   "cell_type": "code",
   "execution_count": 80,
   "id": "558cedc3-fd67-445f-86a0-b2c6c26172ce",
   "metadata": {},
   "outputs": [
    {
     "data": {
      "text/plain": [
       "'0100000000000000020000000000000003000000000000000400000000000000'"
      ]
     },
     "execution_count": 80,
     "metadata": {},
     "output_type": "execute_result"
    }
   ],
   "source": [
    "a.data.hex()"
   ]
  },
  {
   "cell_type": "code",
   "execution_count": 81,
   "id": "bf40873e-3feb-457e-8dd5-616ca9a7366e",
   "metadata": {},
   "outputs": [],
   "source": [
    "b = np.array([999, 9999, 99999, 999999])"
   ]
  },
  {
   "cell_type": "code",
   "execution_count": 82,
   "id": "cdce9a82-c12a-4192-b4aa-f91af191a2ef",
   "metadata": {},
   "outputs": [
    {
     "data": {
      "text/plain": [
       "'e7030000'"
      ]
     },
     "execution_count": 82,
     "metadata": {},
     "output_type": "execute_result"
    }
   ],
   "source": [
    "b.data.hex()[:8]"
   ]
  },
  {
   "cell_type": "code",
   "execution_count": 83,
   "id": "bf6db770-a939-487c-b939-732c5c1eead5",
   "metadata": {},
   "outputs": [
    {
     "data": {
      "text/plain": [
       "'0x3e7'"
      ]
     },
     "execution_count": 83,
     "metadata": {},
     "output_type": "execute_result"
    }
   ],
   "source": [
    "hex(999)"
   ]
  },
  {
   "cell_type": "code",
   "execution_count": 84,
   "id": "d20a40bd-56a9-495d-8fa5-4ff9d4039594",
   "metadata": {},
   "outputs": [
    {
     "data": {
      "text/plain": [
       "999"
      ]
     },
     "execution_count": 84,
     "metadata": {},
     "output_type": "execute_result"
    }
   ],
   "source": [
    "int('0x3e7', 16)"
   ]
  },
  {
   "cell_type": "code",
   "execution_count": 85,
   "id": "122894b9-585c-405f-8e20-5ac91018af28",
   "metadata": {},
   "outputs": [
    {
     "data": {
      "text/plain": [
       "(62, 7)"
      ]
     },
     "execution_count": 85,
     "metadata": {},
     "output_type": "execute_result"
    }
   ],
   "source": [
    " divmod(999, 16) # 16진수로 표시할 때는 몫과 나머지를 같이 구함"
   ]
  },
  {
   "cell_type": "code",
   "execution_count": 86,
   "id": "5ea1ccad-a1e0-4aa5-a208-dd59aefd8f54",
   "metadata": {},
   "outputs": [
    {
     "data": {
      "text/plain": [
       "(3, 14)"
      ]
     },
     "execution_count": 86,
     "metadata": {},
     "output_type": "execute_result"
    }
   ],
   "source": [
    "divmod(62, 16)"
   ]
  },
  {
   "cell_type": "code",
   "execution_count": 87,
   "id": "519e9dd5-21c2-48c4-9e8e-f2e2d1f4beb0",
   "metadata": {},
   "outputs": [
    {
     "data": {
      "text/plain": [
       "(0, 3)"
      ]
     },
     "execution_count": 87,
     "metadata": {},
     "output_type": "execute_result"
    }
   ],
   "source": [
    "divmod(3, 16)"
   ]
  },
  {
   "cell_type": "code",
   "execution_count": 88,
   "id": "ab500aad-bf9b-4f3d-81d4-4f5c7668227c",
   "metadata": {},
   "outputs": [
    {
     "data": {
      "text/plain": [
       "4"
      ]
     },
     "execution_count": 88,
     "metadata": {},
     "output_type": "execute_result"
    }
   ],
   "source": [
    "a.size"
   ]
  },
  {
   "cell_type": "code",
   "execution_count": 89,
   "id": "98902b0d-8002-4855-a299-7a069f58b749",
   "metadata": {},
   "outputs": [
    {
     "name": "stdout",
     "output_type": "stream",
     "text": [
      "1\n",
      "2\n",
      "3\n",
      "4\n"
     ]
    }
   ],
   "source": [
    "for i in range(a.size):\n",
    "    print(a[i])"
   ]
  },
  {
   "cell_type": "code",
   "execution_count": 90,
   "id": "a787087d-cd94-4033-9f27-bb8bd45b64fb",
   "metadata": {},
   "outputs": [
    {
     "data": {
      "text/plain": [
       "<numpy.flatiter at 0x19a17101e50>"
      ]
     },
     "execution_count": 90,
     "metadata": {},
     "output_type": "execute_result"
    }
   ],
   "source": [
    "a.flat # 다차원 배열을 1차원처럼 순회할 수 있게 도와줌"
   ]
  },
  {
   "cell_type": "code",
   "execution_count": 91,
   "id": "29b3f24d-9ce8-4c29-9685-6f56426a189a",
   "metadata": {},
   "outputs": [
    {
     "name": "stdout",
     "output_type": "stream",
     "text": [
      "1\n",
      "2\n",
      "3\n",
      "4\n"
     ]
    }
   ],
   "source": [
    "for i in a.flat:\n",
    "    print(i)"
   ]
  },
  {
   "cell_type": "code",
   "execution_count": 92,
   "id": "ae1bc472-33e2-47c6-89a8-e2310a6df67f",
   "metadata": {},
   "outputs": [],
   "source": [
    "c = np.array([1, 2, 3, 4], dtype = float)"
   ]
  },
  {
   "cell_type": "code",
   "execution_count": 93,
   "id": "64fd228b-dbca-40f8-9cb6-1d1ca1e5b17f",
   "metadata": {},
   "outputs": [
    {
     "data": {
      "text/plain": [
       "array([1., 2., 3., 4.])"
      ]
     },
     "execution_count": 93,
     "metadata": {},
     "output_type": "execute_result"
    }
   ],
   "source": [
    "c"
   ]
  },
  {
   "cell_type": "code",
   "execution_count": 94,
   "id": "24c38805-b9a3-403d-8e7d-5f8015448005",
   "metadata": {},
   "outputs": [],
   "source": [
    "x = np.frombuffer(c) # frombuffer 복사하지 않고 공유 가능"
   ]
  },
  {
   "cell_type": "code",
   "execution_count": 95,
   "id": "bdf85d1a-ffe5-45ad-a7a8-eb2d5adca312",
   "metadata": {},
   "outputs": [
    {
     "data": {
      "text/plain": [
       "array([1., 2., 3., 4.])"
      ]
     },
     "execution_count": 95,
     "metadata": {},
     "output_type": "execute_result"
    }
   ],
   "source": [
    "x"
   ]
  },
  {
   "cell_type": "code",
   "execution_count": 96,
   "id": "8b39cfa8-616f-431e-82a1-0758c3a46ff6",
   "metadata": {},
   "outputs": [],
   "source": [
    "x[0] = 100"
   ]
  },
  {
   "cell_type": "code",
   "execution_count": 97,
   "id": "cb03a6cf-faea-4ac2-9839-b8c738801e5a",
   "metadata": {},
   "outputs": [
    {
     "data": {
      "text/plain": [
       "array([100.,   2.,   3.,   4.])"
      ]
     },
     "execution_count": 97,
     "metadata": {},
     "output_type": "execute_result"
    }
   ],
   "source": [
    "x"
   ]
  },
  {
   "cell_type": "code",
   "execution_count": 98,
   "id": "e7522b40-f760-45d9-b7aa-c26e12314825",
   "metadata": {},
   "outputs": [
    {
     "data": {
      "text/plain": [
       "array([100.,   2.,   3.,   4.])"
      ]
     },
     "execution_count": 98,
     "metadata": {},
     "output_type": "execute_result"
    }
   ],
   "source": [
    "c"
   ]
  },
  {
   "cell_type": "code",
   "execution_count": 99,
   "id": "b7e005c8-298f-4c3d-b857-f180e79cd292",
   "metadata": {},
   "outputs": [
    {
     "data": {
      "text/plain": [
       "dtype('float64')"
      ]
     },
     "execution_count": 99,
     "metadata": {},
     "output_type": "execute_result"
    }
   ],
   "source": [
    "x.dtype"
   ]
  },
  {
   "cell_type": "code",
   "execution_count": 100,
   "id": "32b6cb03-3253-4697-81ac-49bf7a6b474a",
   "metadata": {},
   "outputs": [
    {
     "data": {
      "text/plain": [
       "np.float64(100.0)"
      ]
     },
     "execution_count": 100,
     "metadata": {},
     "output_type": "execute_result"
    }
   ],
   "source": [
    "x[0]"
   ]
  },
  {
   "cell_type": "code",
   "execution_count": 101,
   "id": "c13f3bdc-fb84-4866-b21a-c8561752dcc0",
   "metadata": {},
   "outputs": [
    {
     "data": {
      "text/plain": [
       "  C_CONTIGUOUS : True\n",
       "  F_CONTIGUOUS : True\n",
       "  OWNDATA : False\n",
       "  WRITEABLE : True\n",
       "  ALIGNED : True\n",
       "  WRITEBACKIFCOPY : False"
      ]
     },
     "execution_count": 101,
     "metadata": {},
     "output_type": "execute_result"
    }
   ],
   "source": [
    "x.flags"
   ]
  },
  {
   "cell_type": "code",
   "execution_count": 102,
   "id": "c0e59958-5049-4d5a-99fd-553359e9d2a7",
   "metadata": {},
   "outputs": [
    {
     "data": {
      "text/plain": [
       "True"
      ]
     },
     "execution_count": 102,
     "metadata": {},
     "output_type": "execute_result"
    }
   ],
   "source": [
    "x.base is c"
   ]
  },
  {
   "cell_type": "code",
   "execution_count": 103,
   "id": "8953f30a-0274-4e65-b2e2-b943ae4364d2",
   "metadata": {},
   "outputs": [
    {
     "data": {
      "text/plain": [
       "  C_CONTIGUOUS : True\n",
       "  F_CONTIGUOUS : True\n",
       "  OWNDATA : True\n",
       "  WRITEABLE : True\n",
       "  ALIGNED : True\n",
       "  WRITEBACKIFCOPY : False"
      ]
     },
     "execution_count": 103,
     "metadata": {},
     "output_type": "execute_result"
    }
   ],
   "source": [
    "c.flags"
   ]
  },
  {
   "cell_type": "markdown",
   "id": "8d176e67-5886-409c-b5ed-5558508267ca",
   "metadata": {},
   "source": [
    "## 다차원의 배열의 두 클래스 비교"
   ]
  },
  {
   "cell_type": "markdown",
   "id": "c794970b-2120-43a4-a1bf-d9346a029259",
   "metadata": {},
   "source": [
    "### ex1) 두 클래스 비교"
   ]
  },
  {
   "cell_type": "code",
   "execution_count": 106,
   "id": "7404a2a4-c9cc-4e91-aff3-74cbb567116f",
   "metadata": {},
   "outputs": [
    {
     "data": {
      "text/plain": [
       "(object,)"
      ]
     },
     "execution_count": 106,
     "metadata": {},
     "output_type": "execute_result"
    }
   ],
   "source": [
    "np.ndarray.__bases__"
   ]
  },
  {
   "cell_type": "code",
   "execution_count": 109,
   "id": "bec238c1-9ba0-42bd-90c9-fdeee4c935f0",
   "metadata": {},
   "outputs": [
    {
     "data": {
      "text/plain": [
       "(numpy.ndarray,)"
      ]
     },
     "execution_count": 109,
     "metadata": {},
     "output_type": "execute_result"
    }
   ],
   "source": [
    "np.matrix.__bases__"
   ]
  },
  {
   "cell_type": "code",
   "execution_count": 110,
   "id": "1721e165-9ef1-4456-af8b-b61e7de777ae",
   "metadata": {},
   "outputs": [],
   "source": [
    "l1 = np.array([1, 2, 3, 4, 5, 6, 7, 8])"
   ]
  },
  {
   "cell_type": "code",
   "execution_count": 111,
   "id": "8f6ccd22-4cd2-4272-9a01-3866e77a763b",
   "metadata": {},
   "outputs": [
    {
     "data": {
      "text/plain": [
       "(8,)"
      ]
     },
     "execution_count": 111,
     "metadata": {},
     "output_type": "execute_result"
    }
   ],
   "source": [
    "l1.shape"
   ]
  },
  {
   "cell_type": "code",
   "execution_count": 113,
   "id": "211fc7d0-b021-4eed-90dc-d573e4426b87",
   "metadata": {},
   "outputs": [],
   "source": [
    "m1 = np.matrix([1, 2, 3, 4, 5, 6, 7, 8])"
   ]
  },
  {
   "cell_type": "code",
   "execution_count": 114,
   "id": "47183a4a-b8ef-4918-bf45-def6b988f42b",
   "metadata": {},
   "outputs": [
    {
     "data": {
      "text/plain": [
       "(1, 8)"
      ]
     },
     "execution_count": 114,
     "metadata": {},
     "output_type": "execute_result"
    }
   ],
   "source": [
    "m1.shape "
   ]
  },
  {
   "cell_type": "code",
   "execution_count": 115,
   "id": "7ad53080-98b4-4d8d-9c1c-208dc8c4e6a9",
   "metadata": {},
   "outputs": [],
   "source": [
    "l2 = l1.reshape(2, 4)"
   ]
  },
  {
   "cell_type": "code",
   "execution_count": 116,
   "id": "322a9f18-ba5d-4000-a1a4-761c3bf4c969",
   "metadata": {},
   "outputs": [
    {
     "data": {
      "text/plain": [
       "(2, 4)"
      ]
     },
     "execution_count": 116,
     "metadata": {},
     "output_type": "execute_result"
    }
   ],
   "source": [
    "l2.shape"
   ]
  },
  {
   "cell_type": "code",
   "execution_count": 117,
   "id": "899321ba-f71c-49b3-896a-1c6fb8bc78d9",
   "metadata": {},
   "outputs": [],
   "source": [
    "m2 = m1.reshape(2, 4)"
   ]
  },
  {
   "cell_type": "code",
   "execution_count": 118,
   "id": "8d45dee0-c8d3-4e1c-9bbd-274f7b80e34f",
   "metadata": {},
   "outputs": [
    {
     "data": {
      "text/plain": [
       "(2, 4)"
      ]
     },
     "execution_count": 118,
     "metadata": {},
     "output_type": "execute_result"
    }
   ],
   "source": [
    "m2.shape"
   ]
  },
  {
   "cell_type": "code",
   "execution_count": 119,
   "id": "5354b4e8-f0e0-4a90-8574-7cea04595d89",
   "metadata": {},
   "outputs": [],
   "source": [
    "l3 = l2.reshape(2, 2, 2)"
   ]
  },
  {
   "cell_type": "code",
   "execution_count": 120,
   "id": "b08244a0-1716-4989-9f11-00dfd0772661",
   "metadata": {},
   "outputs": [
    {
     "name": "stdout",
     "output_type": "stream",
     "text": [
      "예외  shape too large to be a matrix.\n"
     ]
    }
   ],
   "source": [
    "try:\n",
    "    m3 = m2.reshape(2, 2, 2)\n",
    "except Exception as e:\n",
    "    print(\"예외 \", e)"
   ]
  },
  {
   "cell_type": "code",
   "execution_count": 122,
   "id": "b6486083-29fc-47ca-b07c-a994981458c4",
   "metadata": {},
   "outputs": [],
   "source": [
    "m2_1 = np.asmatrix(l1).reshape(2, 4)"
   ]
  },
  {
   "cell_type": "code",
   "execution_count": 123,
   "id": "2257d0ca-c8fb-44ec-8043-04c718e62b3e",
   "metadata": {},
   "outputs": [
    {
     "data": {
      "text/plain": [
       "matrix([[1, 2, 3, 4],\n",
       "        [5, 6, 7, 8]])"
      ]
     },
     "execution_count": 123,
     "metadata": {},
     "output_type": "execute_result"
    }
   ],
   "source": [
    "m2_1"
   ]
  },
  {
   "cell_type": "code",
   "execution_count": 124,
   "id": "82d86ac0-699d-4bb9-8afd-98d81122d93a",
   "metadata": {},
   "outputs": [
    {
     "data": {
      "text/plain": [
       "array([[ 1,  4,  9, 16],\n",
       "       [25, 36, 49, 64]])"
      ]
     },
     "execution_count": 124,
     "metadata": {},
     "output_type": "execute_result"
    }
   ],
   "source": [
    "l2 * l2"
   ]
  },
  {
   "cell_type": "markdown",
   "id": "cb813726-b71a-49f2-b27a-84dca21bb25d",
   "metadata": {},
   "source": [
    "### ex2) 두 클래스 차이점 확인"
   ]
  },
  {
   "cell_type": "code",
   "execution_count": 125,
   "id": "2ceb0e26-fbfc-4823-9d81-6f77ec3cdf81",
   "metadata": {},
   "outputs": [],
   "source": [
    "nd_ = set(dir(np.ndarray))"
   ]
  },
  {
   "cell_type": "code",
   "execution_count": 126,
   "id": "7938a7b2-fe8e-4fa8-af74-062ad4044096",
   "metadata": {},
   "outputs": [],
   "source": [
    "md_ = set(dir(np.matrix))"
   ]
  },
  {
   "cell_type": "code",
   "execution_count": 127,
   "id": "6b27cf94-dbde-44ac-ac7e-48f1d68ddb00",
   "metadata": {},
   "outputs": [
    {
     "data": {
      "text/plain": [
       "{'A',\n",
       " 'A1',\n",
       " 'H',\n",
       " 'I',\n",
       " '__annotations__',\n",
       " '__dict__',\n",
       " '__module__',\n",
       " '_align',\n",
       " '_collapse',\n",
       " 'getA',\n",
       " 'getA1',\n",
       " 'getH',\n",
       " 'getI',\n",
       " 'getT'}"
      ]
     },
     "execution_count": 127,
     "metadata": {},
     "output_type": "execute_result"
    }
   ],
   "source": [
    "md_ - nd_"
   ]
  },
  {
   "cell_type": "code",
   "execution_count": 130,
   "id": "4504b8b7-384c-49c3-8667-ba39b2a8c98f",
   "metadata": {},
   "outputs": [],
   "source": [
    "m4 = np.asmatrix('1 2; 3 4')"
   ]
  },
  {
   "cell_type": "code",
   "execution_count": 131,
   "id": "eee31768-ed19-4a73-828d-7151bb540bb6",
   "metadata": {},
   "outputs": [
    {
     "data": {
      "text/plain": [
       "matrix([[1, 2],\n",
       "        [3, 4]])"
      ]
     },
     "execution_count": 131,
     "metadata": {},
     "output_type": "execute_result"
    }
   ],
   "source": [
    "m4"
   ]
  },
  {
   "cell_type": "code",
   "execution_count": 132,
   "id": "84832879-a0c2-4706-b8f9-b13bdb757351",
   "metadata": {},
   "outputs": [
    {
     "data": {
      "text/plain": [
       "array([[1, 2],\n",
       "       [3, 4]])"
      ]
     },
     "execution_count": 132,
     "metadata": {},
     "output_type": "execute_result"
    }
   ],
   "source": [
    "m4.A"
   ]
  },
  {
   "cell_type": "code",
   "execution_count": 133,
   "id": "a2037fab-9a94-48a9-b23e-a77faf55c18d",
   "metadata": {},
   "outputs": [
    {
     "data": {
      "text/plain": [
       "array([[1, 2],\n",
       "       [3, 4]])"
      ]
     },
     "execution_count": 133,
     "metadata": {},
     "output_type": "execute_result"
    }
   ],
   "source": [
    "m4.getA()"
   ]
  },
  {
   "cell_type": "code",
   "execution_count": 134,
   "id": "5e58ef83-c45d-4aac-ab1c-c9c4723e8ad8",
   "metadata": {},
   "outputs": [
    {
     "data": {
      "text/plain": [
       "matrix([[1, 3],\n",
       "        [2, 4]])"
      ]
     },
     "execution_count": 134,
     "metadata": {},
     "output_type": "execute_result"
    }
   ],
   "source": [
    "m4.H"
   ]
  },
  {
   "cell_type": "code",
   "execution_count": 135,
   "id": "0e8e0886-ba44-4c97-95f6-75846e74d3f1",
   "metadata": {},
   "outputs": [
    {
     "data": {
      "text/plain": [
       "matrix([[1, 3],\n",
       "        [2, 4]])"
      ]
     },
     "execution_count": 135,
     "metadata": {},
     "output_type": "execute_result"
    }
   ],
   "source": [
    "m4.T"
   ]
  },
  {
   "cell_type": "code",
   "execution_count": 136,
   "id": "5d123d5b-2151-4a72-a8ea-b4bf01f237c7",
   "metadata": {},
   "outputs": [],
   "source": [
    "from numpy import linalg"
   ]
  },
  {
   "cell_type": "code",
   "execution_count": 137,
   "id": "0f7a808e-744b-4f5a-8181-c6e3c510f0d2",
   "metadata": {},
   "outputs": [
    {
     "data": {
      "text/plain": [
       "matrix([[-2. ,  1. ],\n",
       "        [ 1.5, -0.5]])"
      ]
     },
     "execution_count": 137,
     "metadata": {},
     "output_type": "execute_result"
    }
   ],
   "source": [
    "linalg.inv(m4)"
   ]
  },
  {
   "cell_type": "code",
   "execution_count": 138,
   "id": "ca94a8ba-c67e-4fff-8d24-609aa5461b72",
   "metadata": {},
   "outputs": [
    {
     "data": {
      "text/plain": [
       "matrix([[-2. ,  1. ],\n",
       "        [ 1.5, -0.5]])"
      ]
     },
     "execution_count": 138,
     "metadata": {},
     "output_type": "execute_result"
    }
   ],
   "source": [
    "m4.I"
   ]
  },
  {
   "cell_type": "code",
   "execution_count": 139,
   "id": "731ef8da-7815-4bbc-99fd-e73d011ef6a9",
   "metadata": {},
   "outputs": [
    {
     "data": {
      "text/plain": [
       "matrix([[1, 2, 3, 4],\n",
       "        [5, 6, 7, 8]])"
      ]
     },
     "execution_count": 139,
     "metadata": {},
     "output_type": "execute_result"
    }
   ],
   "source": [
    "m2"
   ]
  },
  {
   "cell_type": "code",
   "execution_count": 140,
   "id": "9021de44-42dd-46b3-b086-6ea8b1538287",
   "metadata": {},
   "outputs": [
    {
     "name": "stdout",
     "output_type": "stream",
     "text": [
      "Last 2 dimensions of the array must be square\n"
     ]
    }
   ],
   "source": [
    "try:\n",
    "    linalg.inv(m2)\n",
    "except Exception as e:\n",
    "    print(e)"
   ]
  },
  {
   "cell_type": "code",
   "execution_count": 141,
   "id": "615710e6-6b97-40e4-a4b4-5d5c58becf5a",
   "metadata": {},
   "outputs": [
    {
     "data": {
      "text/plain": [
       "matrix([[-5.50000000e-01,  2.50000000e-01],\n",
       "        [-2.25000000e-01,  1.25000000e-01],\n",
       "        [ 1.00000000e-01, -2.10437669e-17],\n",
       "        [ 4.25000000e-01, -1.25000000e-01]])"
      ]
     },
     "execution_count": 141,
     "metadata": {},
     "output_type": "execute_result"
    }
   ],
   "source": [
    "m2.I"
   ]
  }
 ],
 "metadata": {
  "kernelspec": {
   "display_name": "Python 3 (ipykernel)",
   "language": "python",
   "name": "python3"
  },
  "language_info": {
   "codemirror_mode": {
    "name": "ipython",
    "version": 3
   },
   "file_extension": ".py",
   "mimetype": "text/x-python",
   "name": "python",
   "nbconvert_exporter": "python",
   "pygments_lexer": "ipython3",
   "version": "3.11.9"
  }
 },
 "nbformat": 4,
 "nbformat_minor": 5
}
